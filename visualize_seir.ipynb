{
 "cells": [
  {
   "cell_type": "code",
   "execution_count": 14,
   "metadata": {
    "ExecuteTime": {
     "end_time": "2023-11-08T10:12:31.690644Z",
     "start_time": "2023-11-08T10:12:31.687783Z"
    }
   },
   "outputs": [],
   "source": [
    "from seird import SEIRD\n",
    "import matplotlib.pyplot as plt"
   ]
  },
  {
   "cell_type": "code",
   "execution_count": null,
   "metadata": {},
   "outputs": [],
   "source": [
    "# Define initial conditions\n",
    "# One needs some infection in the model in order to model the spread\n",
    "init_conditions = [0.99, 0.01, 0, 0, 0]\n",
    "model = SEIRD(init_conditions)"
   ]
  },
  {
   "cell_type": "code",
   "execution_count": null,
   "metadata": {},
   "outputs": [],
   "source": [
    "# Set parameters\n",
    "# Basic Reproduction Rate (R0)\n",
    "R0 = 3.5\n",
    "\n",
    "# Incubation Period (in days)\n",
    "i = 3\n",
    "\n",
    "# Recovery Rate (as percentage)\n",
    "r = 0.8\n",
    "\n",
    "# Mortality Rate\n",
    "theta = 0.7\n",
    "\n",
    "# Time Stepsize for model\n",
    "dt = 1"
   ]
  },
  {
   "cell_type": "code",
   "execution_count": null,
   "metadata": {},
   "outputs": [],
   "source": [
    "# Run model simulation steps\n",
    "df = model.simulate(R0, i, r, theta, dt)\n",
    "df.head()"
   ]
  },
  {
   "cell_type": "code",
   "execution_count": null,
   "metadata": {},
   "outputs": [],
   "source": [
    "# Visualize results\n",
    "%matplotlib notebook\n",
    "df[[\"Susceptible\", \"Exposed\", \"Infected\", \"Recovered\", \"Dead\"]].plot()"
   ]
  },
  {
   "cell_type": "code",
   "execution_count": null,
   "metadata": {},
   "outputs": [],
   "source": [
    "%matplotlib notebook\n",
    "from ipywidgets import *\n",
    "\n",
    "\n",
    "fig = plt.figure()\n",
    "ax = fig.add_subplot(1, 1, 1)\n",
    "line1, = ax.plot(df[\"t\"], df[\"Susceptible\"], label=\"S\", c=\"green\")\n",
    "line2, = ax.plot(df[\"t\"], df[\"Exposed\"], label=\"E\", c=\"orange\")\n",
    "line3, = ax.plot(df[\"t\"], df[\"Infected\"], label=\"I\", c=\"red\")\n",
    "line4, = ax.plot(df[\"t\"], df[\"Recovered\"], label=\"R\", c=\"blue\")\n",
    "line5, = ax.plot(df[\"t\"], df[\"Dead\"], label=\"D\", c=\"black\")\n",
    "plt.legend()\n",
    "\n",
    "def update(R0=R0, i=i, r=r, theta=theta, dt=dt):\n",
    "    df_new = model.simulate(R0, i, r, theta, dt)\n",
    "    ax.clear()\n",
    "    ax.plot(df_new[\"t\"], df_new[\"Susceptible\"], label=\"S\", c=\"green\")\n",
    "    ax.plot(df_new[\"t\"], df_new[\"Exposed\"], label=\"E\", c=\"orange\")\n",
    "    ax.plot(df_new[\"t\"], df_new[\"Infected\"], label=\"I\", c=\"red\")\n",
    "    ax.plot(df_new[\"t\"], df_new[\"Recovered\"], label=\"R\", c=\"blue\")\n",
    "    ax.plot(df_new[\"t\"], df_new[\"Dead\"], label=\"D\", c=\"black\")\n",
    "    plt.legend()\n",
    "    fig.canvas.draw()\n",
    "\n",
    "interact(update, R0=(0.05, 4, 0.05), i=(2, 30, 1), r=(0.05, 1, 0.05), theta=(0, 1, 0.05), dt=(0.05, 2, 0.05))"
   ]
  },
  {
   "cell_type": "code",
   "execution_count": null,
   "metadata": {},
   "outputs": [],
   "source": []
  }
 ],
 "metadata": {
  "kernelspec": {
   "display_name": "Python 3 (ipykernel)",
   "language": "python",
   "name": "python3"
  },
  "language_info": {
   "codemirror_mode": {
    "name": "ipython",
    "version": 3
   },
   "file_extension": ".py",
   "mimetype": "text/x-python",
   "name": "python",
   "nbconvert_exporter": "python",
   "pygments_lexer": "ipython3",
   "version": "3.11.4"
  }
 },
 "nbformat": 4,
 "nbformat_minor": 4
}
